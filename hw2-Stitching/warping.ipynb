{
 "cells": [
  {
   "cell_type": "code",
   "execution_count": 1,
   "metadata": {},
   "outputs": [],
   "source": [
    "import glob\n",
    "import cv2\n",
    "import numpy as np\n",
    "import matplotlib.pyplot as plt\n",
    "import math\n",
    "\n",
    "focal_len = 705\n",
    "path = \"./data/parrington/prtn*.jpg\"\n",
    "files = glob.glob(path)\n",
    "files.sort(reverse=False)\n",
    "images = [cv2.imread(f) for f in files]\n",
    "\n",
    "plt.figure(figsize=(12,12))\n",
    "for i in range(len(images)):\n",
    "    plt.subplot(4, math.ceil(len(images)/4), i+1)\n",
    "    plt.imshow(cv2.cvtColor(images[i], cv2.COLOR_BGR2RGB))"
   ]
  },
  {
   "cell_type": "code",
   "execution_count": 50,
   "metadata": {},
   "outputs": [],
   "source": [
    "def warp(image):\n",
    "    result_width = round(math.atan(image.shape[1]/2/focal_len) * focal_len * 2)\n",
    "    result_height = image.shape[0]\n",
    "    origin_center_x = image.shape[1] // 2\n",
    "    origin_center_y = image.shape[0] // 2\n",
    "\n",
    "    result_center_x = result_width // 2\n",
    "    result_center_y = result_height // 2\n",
    "\n",
    "    print(result_width, result_height)\n",
    "\n",
    "    def project_pixel(i, j):\n",
    "        theta = i - result_center_x\n",
    "        h = j - result_center_y\n",
    "\n",
    "        print(i)\n",
    "        # print(origin_center_x)\n",
    "        x = round(focal_len * math.tan(theta) + origin_center_x)\n",
    "        y = round(h / math.cos(theta) + origin_center_y)\n",
    "        try:\n",
    "            return image[x][y]\n",
    "        except:\n",
    "            return np.zeros(3)\n",
    "\n",
    "    return np.fromfunction(lambda i, j: project_pixel(i, j), (result_width, result_height), dtype=int)\n",
    "\n",
    "\n"
   ]
  },
  {
   "cell_type": "code",
   "execution_count": 51,
   "metadata": {},
   "outputs": [
    {
     "name": "stdout",
     "output_type": "stream",
     "text": [
      "375 512\n",
      "[[  0   0   0 ...   0   0   0]\n",
      " [  1   1   1 ...   1   1   1]\n",
      " [  2   2   2 ...   2   2   2]\n",
      " ...\n",
      " [372 372 372 ... 372 372 372]\n",
      " [373 373 373 ... 373 373 373]\n",
      " [374 374 374 ... 374 374 374]]\n"
     ]
    },
    {
     "ename": "TypeError",
     "evalue": "only size-1 arrays can be converted to Python scalars",
     "output_type": "error",
     "traceback": [
      "\u001b[0;31m---------------------------------------------------------------------------\u001b[0m",
      "\u001b[0;31mTypeError\u001b[0m                                 Traceback (most recent call last)",
      "\u001b[1;32m/Users/hsiang/Desktop/NTU_Courses/master/VFX/VFX/hw2-Stitching/warping.ipynb Cell 3'\u001b[0m in \u001b[0;36m<cell line: 1>\u001b[0;34m()\u001b[0m\n\u001b[0;32m----> <a href='vscode-notebook-cell:/Users/hsiang/Desktop/NTU_Courses/master/VFX/VFX/hw2-Stitching/warping.ipynb#ch0000003?line=0'>1</a>\u001b[0m result_images \u001b[39m=\u001b[39m [warp(img) \u001b[39mfor\u001b[39;00m img \u001b[39min\u001b[39;00m images]\n\u001b[1;32m      <a href='vscode-notebook-cell:/Users/hsiang/Desktop/NTU_Courses/master/VFX/VFX/hw2-Stitching/warping.ipynb#ch0000003?line=2'>3</a>\u001b[0m plt\u001b[39m.\u001b[39mclf()\n\u001b[1;32m      <a href='vscode-notebook-cell:/Users/hsiang/Desktop/NTU_Courses/master/VFX/VFX/hw2-Stitching/warping.ipynb#ch0000003?line=3'>4</a>\u001b[0m plt\u001b[39m.\u001b[39mfigure(figsize\u001b[39m=\u001b[39m(\u001b[39m12\u001b[39m,\u001b[39m12\u001b[39m))\n",
      "\u001b[1;32m/Users/hsiang/Desktop/NTU_Courses/master/VFX/VFX/hw2-Stitching/warping.ipynb Cell 3'\u001b[0m in \u001b[0;36m<listcomp>\u001b[0;34m(.0)\u001b[0m\n\u001b[0;32m----> <a href='vscode-notebook-cell:/Users/hsiang/Desktop/NTU_Courses/master/VFX/VFX/hw2-Stitching/warping.ipynb#ch0000003?line=0'>1</a>\u001b[0m result_images \u001b[39m=\u001b[39m [warp(img) \u001b[39mfor\u001b[39;00m img \u001b[39min\u001b[39;00m images]\n\u001b[1;32m      <a href='vscode-notebook-cell:/Users/hsiang/Desktop/NTU_Courses/master/VFX/VFX/hw2-Stitching/warping.ipynb#ch0000003?line=2'>3</a>\u001b[0m plt\u001b[39m.\u001b[39mclf()\n\u001b[1;32m      <a href='vscode-notebook-cell:/Users/hsiang/Desktop/NTU_Courses/master/VFX/VFX/hw2-Stitching/warping.ipynb#ch0000003?line=3'>4</a>\u001b[0m plt\u001b[39m.\u001b[39mfigure(figsize\u001b[39m=\u001b[39m(\u001b[39m12\u001b[39m,\u001b[39m12\u001b[39m))\n",
      "\u001b[1;32m/Users/hsiang/Desktop/NTU_Courses/master/VFX/VFX/hw2-Stitching/warping.ipynb Cell 2'\u001b[0m in \u001b[0;36mwarp\u001b[0;34m(image)\u001b[0m\n\u001b[1;32m     <a href='vscode-notebook-cell:/Users/hsiang/Desktop/NTU_Courses/master/VFX/VFX/hw2-Stitching/warping.ipynb#ch0000002?line=21'>22</a>\u001b[0m     \u001b[39mexcept\u001b[39;00m:\n\u001b[1;32m     <a href='vscode-notebook-cell:/Users/hsiang/Desktop/NTU_Courses/master/VFX/VFX/hw2-Stitching/warping.ipynb#ch0000002?line=22'>23</a>\u001b[0m         \u001b[39mreturn\u001b[39;00m np\u001b[39m.\u001b[39mzeros(\u001b[39m3\u001b[39m)\n\u001b[0;32m---> <a href='vscode-notebook-cell:/Users/hsiang/Desktop/NTU_Courses/master/VFX/VFX/hw2-Stitching/warping.ipynb#ch0000002?line=24'>25</a>\u001b[0m \u001b[39mreturn\u001b[39;00m np\u001b[39m.\u001b[39;49mfromfunction(\u001b[39mlambda\u001b[39;49;00m i, j: project_pixel(i, j), (result_width, result_height), dtype\u001b[39m=\u001b[39;49m\u001b[39mint\u001b[39;49m)\n",
      "File \u001b[0;32m/usr/local/lib/python3.9/site-packages/numpy/core/numeric.py:1847\u001b[0m, in \u001b[0;36mfromfunction\u001b[0;34m(function, shape, dtype, like, **kwargs)\u001b[0m\n\u001b[1;32m   <a href='file:///usr/local/lib/python3.9/site-packages/numpy/core/numeric.py?line=1843'>1844</a>\u001b[0m     \u001b[39mreturn\u001b[39;00m _fromfunction_with_like(function, shape, dtype\u001b[39m=\u001b[39mdtype, like\u001b[39m=\u001b[39mlike, \u001b[39m*\u001b[39m\u001b[39m*\u001b[39mkwargs)\n\u001b[1;32m   <a href='file:///usr/local/lib/python3.9/site-packages/numpy/core/numeric.py?line=1845'>1846</a>\u001b[0m args \u001b[39m=\u001b[39m indices(shape, dtype\u001b[39m=\u001b[39mdtype)\n\u001b[0;32m-> <a href='file:///usr/local/lib/python3.9/site-packages/numpy/core/numeric.py?line=1846'>1847</a>\u001b[0m \u001b[39mreturn\u001b[39;00m function(\u001b[39m*\u001b[39;49margs, \u001b[39m*\u001b[39;49m\u001b[39m*\u001b[39;49mkwargs)\n",
      "\u001b[1;32m/Users/hsiang/Desktop/NTU_Courses/master/VFX/VFX/hw2-Stitching/warping.ipynb Cell 2'\u001b[0m in \u001b[0;36mwarp.<locals>.<lambda>\u001b[0;34m(i, j)\u001b[0m\n\u001b[1;32m     <a href='vscode-notebook-cell:/Users/hsiang/Desktop/NTU_Courses/master/VFX/VFX/hw2-Stitching/warping.ipynb#ch0000002?line=21'>22</a>\u001b[0m     \u001b[39mexcept\u001b[39;00m:\n\u001b[1;32m     <a href='vscode-notebook-cell:/Users/hsiang/Desktop/NTU_Courses/master/VFX/VFX/hw2-Stitching/warping.ipynb#ch0000002?line=22'>23</a>\u001b[0m         \u001b[39mreturn\u001b[39;00m np\u001b[39m.\u001b[39mzeros(\u001b[39m3\u001b[39m)\n\u001b[0;32m---> <a href='vscode-notebook-cell:/Users/hsiang/Desktop/NTU_Courses/master/VFX/VFX/hw2-Stitching/warping.ipynb#ch0000002?line=24'>25</a>\u001b[0m \u001b[39mreturn\u001b[39;00m np\u001b[39m.\u001b[39mfromfunction(\u001b[39mlambda\u001b[39;00m i, j: project_pixel(i, j), (result_width, result_height), dtype\u001b[39m=\u001b[39m\u001b[39mint\u001b[39m)\n",
      "\u001b[1;32m/Users/hsiang/Desktop/NTU_Courses/master/VFX/VFX/hw2-Stitching/warping.ipynb Cell 2'\u001b[0m in \u001b[0;36mwarp.<locals>.project_pixel\u001b[0;34m(i, j)\u001b[0m\n\u001b[1;32m     <a href='vscode-notebook-cell:/Users/hsiang/Desktop/NTU_Courses/master/VFX/VFX/hw2-Stitching/warping.ipynb#ch0000002?line=15'>16</a>\u001b[0m \u001b[39mprint\u001b[39m(i)\n\u001b[1;32m     <a href='vscode-notebook-cell:/Users/hsiang/Desktop/NTU_Courses/master/VFX/VFX/hw2-Stitching/warping.ipynb#ch0000002?line=16'>17</a>\u001b[0m \u001b[39m# print(origin_center_x)\u001b[39;00m\n\u001b[0;32m---> <a href='vscode-notebook-cell:/Users/hsiang/Desktop/NTU_Courses/master/VFX/VFX/hw2-Stitching/warping.ipynb#ch0000002?line=17'>18</a>\u001b[0m x \u001b[39m=\u001b[39m \u001b[39mround\u001b[39m(focal_len \u001b[39m*\u001b[39m math\u001b[39m.\u001b[39;49mtan(theta) \u001b[39m+\u001b[39m origin_center_x)\n\u001b[1;32m     <a href='vscode-notebook-cell:/Users/hsiang/Desktop/NTU_Courses/master/VFX/VFX/hw2-Stitching/warping.ipynb#ch0000002?line=18'>19</a>\u001b[0m y \u001b[39m=\u001b[39m \u001b[39mround\u001b[39m(h \u001b[39m/\u001b[39m math\u001b[39m.\u001b[39mcos(theta) \u001b[39m+\u001b[39m origin_center_y)\n\u001b[1;32m     <a href='vscode-notebook-cell:/Users/hsiang/Desktop/NTU_Courses/master/VFX/VFX/hw2-Stitching/warping.ipynb#ch0000002?line=19'>20</a>\u001b[0m \u001b[39mtry\u001b[39;00m:\n",
      "\u001b[0;31mTypeError\u001b[0m: only size-1 arrays can be converted to Python scalars"
     ]
    }
   ],
   "source": [
    "result_images = [warp(img) for img in images]\n",
    "\n",
    "plt.clf()\n",
    "plt.figure(figsize=(12,12))\n",
    "for i in range(len(result_images)):\n",
    "    plt.subplot(4, math.ceil(len(result_images)/4), i+1)\n",
    "    plt.imshow(cv2.cvtColor(result_images[i], cv2.COLOR_BGR2RGB))"
   ]
  },
  {
   "cell_type": "code",
   "execution_count": 45,
   "metadata": {},
   "outputs": [
    {
     "data": {
      "text/plain": [
       "array([[0, 0, 0],\n",
       "       [1, 1, 1],\n",
       "       [2, 2, 2]])"
      ]
     },
     "execution_count": 45,
     "metadata": {},
     "output_type": "execute_result"
    }
   ],
   "source": [
    "np.fromfunction(lambda i, j: i , (3, 3), dtype=int)"
   ]
  }
 ],
 "metadata": {
  "interpreter": {
   "hash": "aee8b7b246df8f9039afb4144a1f6fd8d2ca17a180786b69acc140d282b71a49"
  },
  "kernelspec": {
   "display_name": "Python 3.9.12 64-bit",
   "language": "python",
   "name": "python3"
  },
  "language_info": {
   "codemirror_mode": {
    "name": "ipython",
    "version": 3
   },
   "file_extension": ".py",
   "mimetype": "text/x-python",
   "name": "python",
   "nbconvert_exporter": "python",
   "pygments_lexer": "ipython3",
   "version": "3.9.5"
  },
  "orig_nbformat": 4
 },
 "nbformat": 4,
 "nbformat_minor": 2
}
