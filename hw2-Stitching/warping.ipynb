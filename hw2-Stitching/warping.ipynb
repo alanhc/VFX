{
 "cells": [
  {
   "cell_type": "code",
   "execution_count": null,
   "metadata": {},
   "outputs": [],
   "source": [
    "import glob\n",
    "import cv2\n",
    "import numpy as np\n",
    "import matplotlib.pyplot as plt\n",
    "import math\n",
    "\n",
    "focal_len = 705\n",
    "path = \"./data/parrington/prtn*.jpg\"\n",
    "files = glob.glob(path)\n",
    "files.sort(reverse=False)\n",
    "images = [cv2.imread(f) for f in files][:2]\n",
    "\n",
    "plt.figure(figsize=(12,12))\n",
    "for i in range(len(images)):\n",
    "    plt.subplot(4, math.ceil(len(images)/4), i+1)\n",
    "    plt.imshow(cv2.cvtColor(images[i], cv2.COLOR_BGR2RGB))"
   ]
  },
  {
   "cell_type": "code",
   "execution_count": null,
   "metadata": {},
   "outputs": [],
   "source": [
    "def warp(image):\n",
    "    result_width = round(math.atan(image.shape[1]/2/focal_len) * focal_len * 2)\n",
    "    result_height = image.shape[0]\n",
    "    origin_center_x = (image.shape[1]-1) / 2\n",
    "    origin_center_y = (image.shape[0]-1) / 2\n",
    "\n",
    "    result_center_x = (result_width-1) / 2\n",
    "    result_center_y = (result_height-1) / 2\n",
    "\n",
    "    # print(image.shape[1], image.shape[0])\n",
    "\n",
    "    # print(result_width, result_height)\n",
    "\n",
    "    def project_pixel(i, j):\n",
    "        theta = (i - result_center_x)/focal_len\n",
    "        h = j - result_center_y\n",
    "\n",
    "        #print(i)\n",
    "        # print(origin_center_x)\n",
    "        x = round(focal_len * math.tan(theta) + origin_center_x)\n",
    "        y = round(h / math.cos(theta) + origin_center_y)\n",
    "\n",
    "        if x < 0 or y < 0 or x >= image.shape[1] or y >= image.shape[0]:\n",
    "            return np.zeros(3)\n",
    "        else:\n",
    "            return image[y][x]\n",
    "\n",
    "    result_image_idx = np.ndindex((result_height, result_width))\n",
    "    result_image = np.array([project_pixel(j, i) for i, j in result_image_idx])\n",
    "    return result_image.astype(np.uint8).reshape(result_height, result_width, 3)\n",
    "    #return np.fromfunction(lambda i, j: project_pixel(i, j), (result_width, result_height), dtype=int)"
   ]
  },
  {
   "cell_type": "code",
   "execution_count": null,
   "metadata": {},
   "outputs": [],
   "source": [
    "# s = focal_len\n",
    "# def warp_image(image):\n",
    "#     result_image = np.zeros((image.shape[0], image.shape[1], 3))\n",
    "#     center_y = image.shape[0] // 2\n",
    "#     center_x = image.shape[1] // 2\n",
    "#     def project_pixel(y, x):\n",
    "#         now_y, now_x = y-center_y, x-center_x\n",
    "#         h = now_y / math.sqrt(now_x**2 + focal_len**2) * s\n",
    "#         theta = math.atan(now_y/focal_len) * s\n",
    "#         result_image[round(center_y+h)][round(center_x+now_x)] = image[y][x]\n",
    "    \n",
    "#     result_image_idx = np.ndindex((image.shape[0], image.shape[1]))\n",
    "#     [project_pixel(i,j) for i,j in result_image_idx]\n",
    "#     return result_image.astype(np.uint8)\n",
    "# img_warp = warp_image(images[0])\n",
    "# plt.imshow(img_warp)"
   ]
  },
  {
   "cell_type": "code",
   "execution_count": null,
   "metadata": {},
   "outputs": [],
   "source": [
    "result_images = [warp(img) for img in images]\n",
    "\n",
    "plt.clf()\n",
    "plt.figure(figsize=(12,12))\n",
    "for i in range(len(result_images)):\n",
    "    plt.subplot(4, math.ceil(len(result_images)/4), i+1)\n",
    "    plt.imshow(cv2.cvtColor(result_images[i], cv2.COLOR_BGR2RGB))"
   ]
  },
  {
   "cell_type": "markdown",
   "metadata": {},
   "source": [
    "## Detection"
   ]
  },
  {
   "cell_type": "code",
   "execution_count": null,
   "metadata": {},
   "outputs": [],
   "source": [
    "def harris(gray_img, ksize, gksize, k):\n",
    "    gray_img = np.float64(gray_img)\n",
    "    dx = cv2.Scharr(gray_img, cv2.CV_64F, 1, 0, ksize)\n",
    "    dy = cv2.Scharr(gray_img, cv2.CV_64F, 0, 1, ksize)\n",
    "    \n",
    "    Ixx = cv2.multiply(dx, dx)\n",
    "    Iyy = cv2.multiply(dy, dy)\n",
    "    Ixy = cv2.multiply(dx, dy)\n",
    "    \n",
    "    Sxx = cv2.GaussianBlur(Ixx, (gksize, gksize), 0)\n",
    "    Syy = cv2.GaussianBlur(Iyy, (gksize, gksize), 0)\n",
    "    Sxy = cv2.GaussianBlur(Ixy, (gksize, gksize), 0)\n",
    "\n",
    "    det = Sxx * Syy - Sxy * Sxy\n",
    "    trace = Sxx + Syy\n",
    "    R = det - k * cv2.multiply(trace, trace)\n",
    "\n",
    "    orientation = np.arctan2(dy, dx)\n",
    "    \n",
    "    return R, orientation"
   ]
  },
  {
   "cell_type": "code",
   "execution_count": null,
   "metadata": {},
   "outputs": [],
   "source": [
    "ksize = 3\n",
    "gksize = 3\n",
    "k = 0.05\n",
    "threshold = 1\n",
    "gray_images = []\n",
    "harris_images = []\n",
    "key_points_all = []\n",
    "orientations = []\n",
    "\n",
    "plt.figure(figsize=(12,12))\n",
    "for i, img in enumerate(result_images):\n",
    "    gray_img = cv2.cvtColor(img, cv2.COLOR_BGR2GRAY)\n",
    "    gray_images.append(gray_img)\n",
    "    \n",
    "    harris_img, orientation = harris(gray_img, ksize, gksize, k)\n",
    "    orientations.append(orientation)\n",
    "    \n",
    "    # dilate_img = cv2.dilate(harris_img, np.array([[0., -1., 0.], [-1., 4., -1.], [0., -1., 0.]]))\n",
    "    dilate_img = cv2.Laplacian(harris_img, cv2.CV_64F, ksize = 3) * -1.0\n",
    "    # dilate_img = harris_img\n",
    "    labeled_img = img.copy()\n",
    "    dilate_img[:20,:] = 0\n",
    "    dilate_img[-20:,:] = 0\n",
    "    labeled_img[ dilate_img>0.02*dilate_img.max() ] = [0, 0, 255]\n",
    "    key_points = np.where(dilate_img>0.02*dilate_img.max())\n",
    "    key_points = np.flip(key_points, 0).T\n",
    "    key_points_all.append(key_points)\n",
    "    # cv2.threshold(dilate_img, dilate_img.max()*0.2, 255, cv2.THRESH_BINARY, dilate_img)\n",
    "    \n",
    "    \n",
    "    \n",
    "    harris_images.append(harris_img) \n",
    "    plt.subplot(4, math.ceil(len(result_images)/4), i+1)\n",
    "    #plt.imshow(dilate_img, cmap=\"gray\")\n",
    "    plt.imshow(cv2.cvtColor(labeled_img, cv2.COLOR_BGR2RGB))\n",
    "    \n",
    " "
   ]
  },
  {
   "cell_type": "code",
   "execution_count": null,
   "metadata": {},
   "outputs": [],
   "source": [
    "from scipy import interpolate\n",
    "import numpy.matlib as matlib\n",
    "\n",
    "def SIFT_descriptor(image, keypoints, orientations):\n",
    "    # The orientation histograms have 8 bins\n",
    "    pi = math.pi\n",
    "    orient_bin_spacing = pi / 4\n",
    "    orient_angles = np.arange(-pi, pi, orient_bin_spacing)\n",
    "\n",
    "    # The feature grid is has 4x4 cells - feat_grid describes the cell center positions\n",
    "    grid_spacing = 4\n",
    "    ## Calc center coordinates of grids \n",
    "    center_coords = np.arange(-6, 7, grid_spacing)\n",
    "    x_coords, y_coords = np.meshgrid(center_coords, center_coords)\n",
    "    feat_grid = np.reshape(np.stack((x_coords, y_coords), axis = 2), (-1, 2))\n",
    "\n",
    "    ## Calc center coordinates of pixels in 16*16 window\n",
    "    center_coords = np.arange(-(2 * grid_spacing - 0.5), 2 * grid_spacing, 1)\n",
    "    x_coords, y_coords = np.meshgrid(center_coords, center_coords)\n",
    "    feat_samples = np.reshape(np.stack((x_coords, y_coords), axis = 2), (-1, 2))\n",
    "\n",
    "    feat_window = 2 * grid_spacing\n",
    "\n",
    "    descriptors = []\n",
    "\n",
    "    for keypoint in keypoints:\n",
    "        ## TODO\n",
    "        x, y = keypoint\n",
    "        orientation = orientations[y][x]\n",
    "\n",
    "        M = np.array([\n",
    "            [math.cos(orientation), -math.sin(orientation)], \n",
    "            [math.sin(orientation), math.cos(orientation)]\n",
    "        ])\n",
    "\n",
    "        feat_rot_grid = np.matmul(M, feat_grid.T).T + np.array(keypoint)\n",
    "        feat_rot_samples = np.matmul(M, feat_samples.T).T + np.array(keypoint)\n",
    "\n",
    "        feat_desc = np.zeros((1, 128))\n",
    "\n",
    "        image_f = interpolate.interp2d(\n",
    "            np.arange(image.shape[1]), \n",
    "            np.arange(image.shape[0]),\n",
    "            image\n",
    "        )\n",
    "\n",
    "        for s in feat_rot_samples:\n",
    "            x_sample = s[0]\n",
    "            y_sample = s[1]\n",
    "\n",
    "            G = image_f(\n",
    "                np.arange(x_sample - 1, x_sample + 2), \n",
    "                np.arange(y_sample - 1, y_sample + 2)\n",
    "            )\n",
    "\n",
    "            diff_x = (G[1][2] - G[1][0]) / 2\n",
    "            diff_y = (G[2][1] - G[0][1]) / 2\n",
    "\n",
    "            mag_sample = np.linalg.norm([diff_x, diff_y])\n",
    "            grad_sample = math.atan2(diff_y, diff_x)\n",
    "\n",
    "            if grad_sample == pi:\n",
    "                grad_sample = -pi\n",
    "\n",
    "            x_wght = (1 - (abs(feat_rot_grid[:, 0].T - x_sample) / grid_spacing)).clip(min = 0)\n",
    "            y_wght = (1 - (abs(feat_rot_grid[:, 1].T - y_sample) / grid_spacing)).clip(min = 0)\n",
    "            pos_wght = np.reshape(matlib.repmat(x_wght*y_wght, 8, 1), (1, 128))\n",
    "            \n",
    "            diff = np.mod(grad_sample - orientation - orient_angles + pi, 2 * pi) - pi\n",
    "            orient_wght = matlib.repmat((1 - abs(diff)/orient_bin_spacing).clip(min = 0), 1, 16)\n",
    "            \n",
    "            ## Compute the gaussian weighting.\n",
    "            g = np.exp(-((x_sample-x)**2 + (y_sample-y)**2) / (2*feat_window**2)) / (2*pi*feat_window**2)\n",
    "\n",
    "            ## Accumulate the histogram bins.\n",
    "            feat_desc += pos_wght * orient_wght * g * mag_sample\n",
    "\n",
    "        if np.linalg.norm(feat_desc) != 0:\n",
    "            feat_desc = feat_desc / np.linalg.norm(feat_desc)\n",
    "\n",
    "            feat_desc.clip(max = 0.2)\n",
    "            feat_desc = feat_desc / np.linalg.norm(feat_desc)\n",
    "\n",
    "        descriptors.append(feat_desc)\n",
    "    \n",
    "    return descriptors\n"
   ]
  },
  {
   "cell_type": "code",
   "execution_count": null,
   "metadata": {},
   "outputs": [],
   "source": [
    "# descriptors = SIFT_descriptor(gray_images[0], key_points_all[0][:100], orientations[0])"
   ]
  },
  {
   "cell_type": "code",
   "execution_count": null,
   "metadata": {},
   "outputs": [],
   "source": [
    "descriptors = []\n",
    "for i in range(len(gray_images)):\n",
    "    descriptors.append( SIFT_descriptor(gray_images[i], key_points_all[i], orientations[i]) )\n"
   ]
  },
  {
   "cell_type": "code",
   "execution_count": null,
   "metadata": {},
   "outputs": [],
   "source": [
    "len(descriptors[0])"
   ]
  },
  {
   "cell_type": "code",
   "execution_count": null,
   "metadata": {},
   "outputs": [],
   "source": [
    "from scipy.spatial import KDTree\n",
    "\n",
    "def match(descriptors):\n",
    "    matches = []\n",
    "    n_img = len(descriptors) # number of images\n",
    "    n_feat = len(descriptors[0]) # number of features\n",
    "    for i in range(n_img - 1):\n",
    "        kdtree = KDTree( np.array(descriptors[i]).reshape((n_feat, 128)) )\n",
    "\n",
    "        dist, idx = kdtree.query( np.array(descriptors[i+1]).reshape((len(descriptors[i+1]), 128)), k = 2 )\n",
    "        #print(idx)\n",
    "        \n",
    "        dist_ratio = dist[:, 0] / dist[:, 1]\n",
    "        # print(dist_ratio)\n",
    "        match = idx[:, 0]\n",
    "        match[dist_ratio == float('nan')] = -1\n",
    "        match[dist_ratio >= 0.8] = -1\n",
    "        matches.append(match)\n",
    "        # print(match)\n",
    "        # if (dist[1] != 0 and dist[0] / dist[1] < 0.8):\n",
    "        #     matches.append( idx )\n",
    "    return matches"
   ]
  },
  {
   "cell_type": "code",
   "execution_count": 157,
   "metadata": {},
   "outputs": [
    {
     "name": "stderr",
     "output_type": "stream",
     "text": [
      "/var/folders/k2/f1x8q4fn6sgcjt45z33pnccr0000gn/T/ipykernel_7815/4096139392.py:13: RuntimeWarning: invalid value encountered in true_divide\n",
      "  dist_ratio = dist[:, 0] / dist[:, 1]\n"
     ]
    },
    {
     "data": {
      "text/plain": [
       "[array([  0,  -1, 420, ...,  -1,  -1,  -1])]"
      ]
     },
     "execution_count": 157,
     "metadata": {},
     "output_type": "execute_result"
    }
   ],
   "source": [
    "matches = match(descriptors)"
   ]
  },
  {
   "cell_type": "code",
   "execution_count": 162,
   "metadata": {},
   "outputs": [
    {
     "data": {
      "text/plain": [
       "array([  0,  -1, 420, ...,  -1,  -1,  -1])"
      ]
     },
     "execution_count": 162,
     "metadata": {},
     "output_type": "execute_result"
    }
   ],
   "source": []
  }
 ],
 "metadata": {
  "interpreter": {
   "hash": "aee8b7b246df8f9039afb4144a1f6fd8d2ca17a180786b69acc140d282b71a49"
  },
  "kernelspec": {
   "display_name": "Python 3.9.12 64-bit",
   "language": "python",
   "name": "python3"
  },
  "language_info": {
   "codemirror_mode": {
    "name": "ipython",
    "version": 3
   },
   "file_extension": ".py",
   "mimetype": "text/x-python",
   "name": "python",
   "nbconvert_exporter": "python",
   "pygments_lexer": "ipython3",
   "version": "3.9.12"
  },
  "orig_nbformat": 4
 },
 "nbformat": 4,
 "nbformat_minor": 2
}
