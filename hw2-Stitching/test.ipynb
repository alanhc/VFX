{
 "cells": [
  {
   "cell_type": "code",
   "execution_count": 10,
   "metadata": {},
   "outputs": [
    {
     "name": "stdout",
     "output_type": "stream",
     "text": [
      "[[0 0 0 0 0 0]\n",
      " [1 1 1 1 1 1]\n",
      " [2 2 2 2 2 2]\n",
      " [3 3 3 3 3 3]\n",
      " [4 4 4 4 4 4]]\n",
      "------------------\n",
      "[[2 3 4 5 6 7]\n",
      " [2 3 4 5 6 7]\n",
      " [2 3 4 5 6 7]\n",
      " [2 3 4 5 6 7]\n",
      " [2 3 4 5 6 7]]\n",
      "(30, 2)\n"
     ]
    }
   ],
   "source": [
    "import numpy as np\n",
    "x, y = np.mgrid[0:5, 2:8]\n",
    "print(x)\n",
    "print(\"------------------\")\n",
    "print(y)\n",
    "print(np.c_[x.ravel(), y.ravel()].shape)"
   ]
  },
  {
   "cell_type": "code",
   "execution_count": 2,
   "metadata": {},
   "outputs": [
    {
     "name": "stdout",
     "output_type": "stream",
     "text": [
      "[2.        0.2236068]\n",
      "[ 0 13]\n",
      "[[2.         2.23606798]\n",
      " [0.2236068  0.80622577]]\n",
      "[[ 0  6]\n",
      " [13 19]]\n"
     ]
    }
   ],
   "source": [
    "from scipy.spatial import KDTree\n",
    "# ravel() 類似 flatten()，壓成1d array\n",
    "# np.c_ 將兩個1d array合併成一個2d array e.g. [1,2,3], [4,5,6]=> [1, 4],\n",
    "#                                                               [2, 5],\n",
    "#                                                               [3, 6]\n",
    "tree = KDTree(np.c_[x.ravel(), y.ravel()])   \n",
    "# 查詢兩個點\n",
    "dd, ii = tree.query([[0, 0], [2.2, 2.9]], k=1)\n",
    "print(dd, ii, sep='-\\n')\n",
    "# 查詢最近的兩個點\n",
    "# k: 最近的k個點, workers:用全部cpu\n",
    "dd, ii = tree.query([[0, 0], [2.2, 2.9]], k=2, workers=-1)\n",
    "print(dd, ii, sep='\\n')"
   ]
  },
  {
   "cell_type": "code",
   "execution_count": 16,
   "metadata": {},
   "outputs": [
    {
     "data": {
      "text/plain": [
       "array([[0, 2],\n",
       "       [0, 3],\n",
       "       [0, 4],\n",
       "       [0, 5],\n",
       "       [0, 6],\n",
       "       [0, 7],\n",
       "       [1, 2],\n",
       "       [1, 3],\n",
       "       [1, 4],\n",
       "       [1, 5],\n",
       "       [1, 6],\n",
       "       [1, 7],\n",
       "       [2, 2],\n",
       "       [2, 3],\n",
       "       [2, 4],\n",
       "       [2, 5],\n",
       "       [2, 6],\n",
       "       [2, 7],\n",
       "       [3, 2],\n",
       "       [3, 3],\n",
       "       [3, 4],\n",
       "       [3, 5],\n",
       "       [3, 6],\n",
       "       [3, 7],\n",
       "       [4, 2],\n",
       "       [4, 3],\n",
       "       [4, 4],\n",
       "       [4, 5],\n",
       "       [4, 6],\n",
       "       [4, 7]])"
      ]
     },
     "execution_count": 16,
     "metadata": {},
     "output_type": "execute_result"
    }
   ],
   "source": [
    "np.c_[x.ravel(), y.ravel()]"
   ]
  },
  {
   "cell_type": "code",
   "execution_count": 14,
   "metadata": {},
   "outputs": [
    {
     "data": {
      "text/plain": [
       "True"
      ]
     },
     "execution_count": 14,
     "metadata": {},
     "output_type": "execute_result"
    }
   ],
   "source": [
    "from annoy import AnnoyIndex\n",
    "import random\n",
    "\n",
    "f = 40  # f維空間、被索引的向量長度\n",
    "\n",
    "t = AnnoyIndex(f, 'angular') # AnnoyIndex(f, metric)  metric: \"angular\", \"euclidean\", \"manhattan\", \"hamming\", or \"dot\"\n",
    "for i in range(1000):\n",
    "    v = [random.gauss(0, 1) for z in range(f)] #v: (40,1)\n",
    "    t.add_item(i, v) # i: >0， 第i個元素, v:向量\n",
    "\n",
    "t.build(10, n_jobs=-1) #  build(n_trees, n_jobs=-1) 建立n_trees的forest\n",
    "t.save('test.ann')"
   ]
  },
  {
   "cell_type": "code",
   "execution_count": 18,
   "metadata": {},
   "outputs": [
    {
     "data": {
      "text/plain": [
       "40"
      ]
     },
     "execution_count": 18,
     "metadata": {},
     "output_type": "execute_result"
    }
   ],
   "source": [
    "len(v)"
   ]
  },
  {
   "cell_type": "code",
   "execution_count": 13,
   "metadata": {},
   "outputs": [
    {
     "name": "stdout",
     "output_type": "stream",
     "text": [
      "Collecting annoy\n",
      "  Using cached annoy-1.17.0-cp39-cp39-win_amd64.whl\n",
      "Installing collected packages: annoy\n",
      "Successfully installed annoy-1.17.0\n"
     ]
    }
   ],
   "source": [
    "%pip install annoy"
   ]
  }
 ],
 "metadata": {
  "interpreter": {
   "hash": "cc18504a3968e5ca665dd1577a84a18b76e8dcf6684b3f9bdba027ac8b500b41"
  },
  "kernelspec": {
   "display_name": "Python 3.9.5 ('base')",
   "language": "python",
   "name": "python3"
  },
  "language_info": {
   "codemirror_mode": {
    "name": "ipython",
    "version": 3
   },
   "file_extension": ".py",
   "mimetype": "text/x-python",
   "name": "python",
   "nbconvert_exporter": "python",
   "pygments_lexer": "ipython3",
   "version": "3.8.11"
  },
  "orig_nbformat": 4
 },
 "nbformat": 4,
 "nbformat_minor": 2
}
